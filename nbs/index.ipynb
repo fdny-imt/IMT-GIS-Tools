{
 "cells": [
  {
   "attachments": {},
   "cell_type": "markdown",
   "metadata": {},
   "source": [
    "# IMT-GIS-Tools\n",
    "\n",
    "> Design documents and tools for managing geopsatial data for all-hazard incident management teams (AHIMT)."
   ]
  },
  {
   "attachments": {},
   "cell_type": "markdown",
   "metadata": {},
   "source": [
    "## Problem\n",
    "All-hazard incident management teams (AHIMTs) are often tasked with responding to and managing incidents of wildly varying scope and complexity. The role of AHIMTs continues to evolve into a more data centric role due to legal issues, incident complexity, and interoperability requirements. These challenges necessitate a flexible framework for managing geospatial data during incidents. Unlike the wildland firefighting community, no standards currently exist specific to geospatial data management for AHIMTs. With this project, we aim to provide a framework for handling geospatial data for AHIMTs and the necessary tools for managing said framework.\n",
    "\n",
    "To that end, we propose the following solution:\n",
    "\n",
    "- Standardized event geodatabase (EGDB) schema.\n",
    "  - [Future] PostGIS schema matching EGDB\n",
    "- Pre-built web-apps, map layouts, and analysis tools that match schema.\n",
    "- Tools to allow adapting framework to mission requirements with minimal training.\n",
    "- Standard operating procedures (SOP) that defines operational procedures for handling geospatial data and associated products.\n",
    "\n",
    "The above will allow teams to quickly establish methods for capturing, analyzing, and visualizing data while providing the flexibility required to adapt to changing situations."
   ]
  },
  {
   "attachments": {},
   "cell_type": "markdown",
   "metadata": {},
   "source": [
    "## Components\n",
    "### Event Geodatabase (EGDB)\n",
    "- Pre-defined schema extended from National Wildland Coordinating Group ([NWCG](https://www.nwcg.gov/committees/geospatial-subcommittee/)).\n",
    "- Tools for creating EGDB on ESRI platforms ([ArcGIS Pro](https://www.esri.com/en-us/arcgis/products/arcgis-pro/overview) and [ArcGIS Online (AGOL)](https://www.esri.com/en-us/arcgis/products/arcgis-online/overview)).\n",
    "- Tools for managing domains to facilitate unknown assignment requirements.\n",
    "\n",
    "### Web Application\n",
    "- Provide for Incident monitoring.\n",
    "- Create, read, update, and delete (CRUD) event data.\n",
    "- Print format-customizable maps.\n",
    "- Permissions for query/approval based on IMT roles (GISS, SITL, IC, etc.).\n",
    "- Input features based on hand-held data collection (ESRI Field Maps).\n",
    "- Functional across common hardware and browsers.\n",
    "- Offline functionality with source feature service synchronization of edits.\n",
    "\n",
    "### Customizable ArcGIS Pro Templates and Map Layouts\n",
    "- ArcGIS Pro template containing:\n",
    "  - EGDB\n",
    "  - Custom toolbox\n",
    "  - Customizable map layouts\n",
    "- Map layouts\n",
    "  - Customizable for organizational use.\n",
    "  - Customizable to map/product requirements.\n",
    "  - Dynamic text for rapid updating of map info.\n",
    "\n",
    "### Analysis Tools\n",
    "Includes custom Python tools to accomplish start up, joining, and closing-out an incident. Additional tools can be added by users for custom needs."
   ]
  },
  {
   "attachments": {},
   "cell_type": "markdown",
   "metadata": {},
   "source": [
    "#| hide\n",
    "\n",
    "# TODO: this needs updating/clarification/deleting\n",
    "\n",
    "## Architecture Overview\n",
    "\n",
    "![architecture](images/arch_img.png)\n",
    "\n",
    "Users: \n",
    "As referenced in the figure above, users will be able to interact with the web application both from the browser and via the ArcGIS product suite. All users will be able to interact with the web application through the browser UI. Certain roles (e.g., GISS) will be responsible for “behind the scenes” work via ArcGIS. This will include setting up the event geodatabase (GDB), collecting field data, and maintaining the instanced web map in AGOL.\n",
    "\n",
    "Browser: The core application UI (“the incident map”) runs on the web browsers of IMT hardware. The application will be designed to work offline, with synchronization occurring after reconnecting to the internet or via sideloading.\n",
    "\n",
    "Use Cases: \n",
    "The core uses of the map application. Includes: monitoring of the incident by the IC and relevant parties (SITL, etc.), user-friendly contributions and updates to map features (including the ability to gate-keep updates behind a permission-based approval workflow), and a printing function that produces maps at desired sizes, formats, and product standards.  \n",
    "\n",
    "Data: \n",
    "The data used by the application in performance of its functions. Includes but is not limited to the instanced WebMap from ArcGIS, presumably specific to a given incident, feature layers included in or viewed separately (e.g., NYC’s PLUTO) from the instanced WebMap, user-generated incident data consistent with the GDB, and users. The users class will include a role property from which certain app functionality will be restricted.  \n",
    "\n",
    "GDB:\n",
    "The incident-customizable event geodatabase, generated from an Excel spreadsheet template maintained by the GISSs and other applicable users. \n",
    "\n",
    "ArcGIS: \n",
    "The ESRI product suite, including ArcGIS Pro, AGOL, and Field Maps."
   ]
  },
  {
   "attachments": {},
   "cell_type": "markdown",
   "metadata": {},
   "source": [
    "#| hide\n",
    "\n",
    "# TODO: this needs updating/clarification/deleting\n",
    "\n",
    "## Implementation Plan\n",
    "\n",
    "![implementation](images/impl_img.png)\n",
    "\n",
    "1. Load a WebMap from AGOL and feature layers from other data sources (e.g., PLUTO) for development purposes. WebMap will eventually include the custom .gdb as created from an Excel template and accompanying python script.\n",
    "\n",
    "2. Include an editor that will add, delete, and edit features. Choose appropriate UI for the widget that displays name and symbology of features in the gdb organized by data type (point, line, polygon) or ‘genre’ (e.g., wildfire, collapse, etc.).\n",
    "\n",
    "3. Develop a printing widget that exports the browser view at predetermined and custom sizes and file formats. The widget should have a toggle (default) that specifies the map be produced in accordance with SOPs.\n",
    "\n",
    "4. Define a user class, including roles and permissions. To include but not limited to: Owner, IC, SITL, Logistics, GISS, View-Only. Create a process for managing users. Include web app login and authentication. Develop a feature approval workflow. At minimum, this should include an \"Approval Workflow\" based on the National Incident Feature Service Workflows. \n",
    "\n",
    "5. Build an offline version of the application that is to be sideloaded onto mobile devices. Feature edits in the offline application should write to the “main” map pending role-based approval.\n",
    "\n",
    "6. Refine all aspects of the user experience, including but not limited to the expanded symbology, the Event GDB template, and the web mapping application. The software should be user-friendly to those with limited technological familiarity. Procure and act upon feedback from expected users.\n",
    "\n",
    "7. Develop regression testing scripts to be performed after software updates. The scripts should capture the full functionality of the software, including updates/modifications to the event GDB and synchronizing with offline devices.\n",
    "\n"
   ]
  },
  {
   "attachments": {},
   "cell_type": "markdown",
   "metadata": {},
   "source": [
    "## Current Status\n",
    "All code in the this repository is a work in progress. Use at your own risk and please feel free to `contribute`.\n",
    "\n",
    "- Event GDB: [event_gdb/README.md](event_gdb/README.md)\n",
    "- Webapps: [webapp/README.md](webapp/README.md)\n",
    "  \n",
    "## Changelog\n",
    "\n",
    "### 2022-12-22\n",
    "- Migrate to nbdev for improved documentation\n",
    "  \n",
    "### 2022-08-31\n",
    "- Add event GDB readme: [event_gdb/README.md](event_gdb/README.md)\n",
    "- Add webapp readme: [webapp/README.md](webapp/README.md)\n",
    "  \n",
    "### 2022-08-11\n",
    "- Alpha version of event GDB ready\n",
    "- Still in conversations with ESRI on how to best adapt the domains/contingent values of feature category after EGDB has been pushed to AGOL\n",
    "- Basic webapp running\n",
    "- SOP stub created\n",
    "- Some layout management tools completed"
   ]
  },
  {
   "cell_type": "markdown",
   "metadata": {},
   "source": []
  }
 ],
 "metadata": {
  "kernelspec": {
   "display_name": "gis",
   "language": "python",
   "name": "python3"
  }
 },
 "nbformat": 4,
 "nbformat_minor": 4
}

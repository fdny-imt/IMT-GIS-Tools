{
 "cells": [
  {
   "attachments": {},
   "cell_type": "markdown",
   "metadata": {},
   "source": [
    "# Docker Stack\n",
    "> A stack of often used tools for IMT GIS assignments."
   ]
  },
  {
   "attachments": {},
   "cell_type": "markdown",
   "metadata": {},
   "source": [
    "## Tools\n",
    "### PostGIS\n",
    "PostGIS is the Postgres database with the GIS extension pre-packaged. Most GIS tools in use (ArcGIS, QGIS) can connect directly to the database.\n",
    "\n",
    "### PGAdmin\n",
    "PGAdmin is an admin tool for PostGIS database.\n",
    "\n",
    "### WebDAV\n",
    "WebDAV is a network file sharing tool. WebDAV shares can be mounted by most operating systems and "
   ]
  },
  {
   "attachments": {},
   "cell_type": "markdown",
   "metadata": {},
   "source": [
    "## Usage\n",
    "- Ensure you have [docker](https://docs.docker.com/get-docker/) downloaded and installed.\n",
    "- Copy ```.env.template``` to ```.env```.\n",
    "- Populate ```.env``` with your preferred values.\n",
    "- From the root directory, run: ```docker compose -d up```.\n",
    "- Connect to service with the appropriate port. That can be found in the ```docker-compose.yml```.\n",
    "  - Example: PostGIS can be connected to by using the hostname of `localhost` and the port `5400`...`localhost:5400`"
   ]
  }
 ],
 "metadata": {
  "kernelspec": {
   "display_name": "gis",
   "language": "python",
   "name": "python3"
  }
 },
 "nbformat": 4,
 "nbformat_minor": 2
}
